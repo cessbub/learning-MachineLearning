{
 "cells": [
  {
   "cell_type": "markdown",
   "metadata": {},
   "source": [
    "# Python for Machine Learning\n",
    "\n",
    "\n",
    "Python is an open source, general-purpose, interpreted and high-level programming language.\n",
    "\n",
    "Developed by Guido van Rossum in the late 1980s and early 1990’s at the National Research Institute of Mathematics and Computer Science in the Netherlands. \n",
    "\n",
    "## A. Welcome to Jupyter (a.k.a. Ipython Notebooks)\n",
    "Take a while to adjust your bearings. Study the icons above.\n",
    "\n",
    "There are two major types of cells:\n",
    "\n",
    "1) Markdown cells - simple text. One can do html tags like <b>BOLD</b> or latex like $\\beta$.\n",
    "\n",
    "2) Code cells - cells where we can run code.\n",
    "\n",
    "<b>Shortcuts</b>\n",
    "\n",
    "1) <b>CTRL-M</b> then <b>H</b> to see help\n",
    "\n",
    "2) <b>CTRL-M</b> then <b>S</b> to save notebook\n",
    "\n",
    "3) <b>CTRL-ENTER</b> to Run Code but stay in the same cell\n",
    "\n",
    "4) <b>SHIFT-ENTER</b> to Run Code and advance to the next cell\n",
    "\n",
    "5) You can use <b>TAB</b> to see available functions. You can use <b>SHIFT-TAB</b> repeatedly for the documentation."
   ]
  },
  {
   "cell_type": "markdown",
   "metadata": {},
   "source": [
    "## B. Variables and Data Types\n",
    "\n",
    "An identifier in Python is name used to identify a variable, function, class, module and other object.\n",
    "\n",
    "An identifier starts with a letter letter (A to Z or a to z) or an underscore (_) followed by zero or more letters, underscores or digits. Identifiers are case sensitive.\n",
    "\n",
    "Examples: x, y, _value, totalSales, totalsales, class2\n",
    "\n",
    "Python uses five standard data types:\n",
    "\n",
    "### Numbers"
   ]
  },
  {
   "cell_type": "code",
   "execution_count": null,
   "metadata": {},
   "outputs": [],
   "source": [
    "varNum = 123\n",
    "pi = 3.14159"
   ]
  },
  {
   "cell_type": "markdown",
   "metadata": {},
   "source": [
    "varNum is an Integer, thus it does not handle numbers with decimal places while pi is a Float where values in the decimal place are handled."
   ]
  },
  {
   "cell_type": "markdown",
   "metadata": {},
   "source": [
    "### Strings\n",
    "A string is a list of characters. \n",
    "\n",
    "Strings may be declared with a single quote (') or double quote (\"), some even use triple double quotes(\"\"\"). One may use them interchangeable but some prefer to follow a specific format."
   ]
  },
  {
   "cell_type": "code",
   "execution_count": null,
   "metadata": {},
   "outputs": [],
   "source": [
    "varString = \"Hello World!\"\n",
    "varText = 'This is a String'\n",
    "print(varString)\n",
    "print(\"The length of varString is\",len(varString))"
   ]
  },
  {
   "cell_type": "markdown",
   "metadata": {},
   "source": [
    "### Lists\n",
    "List is the most versatile datatype in Python.\n",
    "\n",
    "A list of comma separated values between square brackets. Items in a list may have different data types and can hold another list.\n",
    "\n",
    "List indices start at 0, and lists can be sliced, concatenated and so on."
   ]
  },
  {
   "cell_type": "code",
   "execution_count": null,
   "metadata": {},
   "outputs": [],
   "source": [
    "varList = [\"abc\", 123]\n",
    "print(varList)\n",
    "print(len(varList))"
   ]
  },
  {
   "cell_type": "code",
   "execution_count": null,
   "metadata": {},
   "outputs": [],
   "source": [
    "print(varList[0])\n",
    "print(len(varList[0]))"
   ]
  },
  {
   "cell_type": "markdown",
   "metadata": {},
   "source": [
    "You can obtain the contents of a list by using brackets that contain the index of the element. You may also append items in the list and remove them as well."
   ]
  },
  {
   "cell_type": "markdown",
   "metadata": {},
   "source": [
    "### Tuples\n",
    "\n",
    "A tuple is a sequence of immutable Python objects.\n",
    "\n",
    "Tuples are sequences, just like lists. "
   ]
  },
  {
   "cell_type": "code",
   "execution_count": null,
   "metadata": {},
   "outputs": [],
   "source": [
    "varTuple = ('abc', 123, \"HELLO\")\n",
    "print(varTuple)\n",
    "print(len(varTuple))\n",
    "print(varTuple[0])"
   ]
  },
  {
   "cell_type": "markdown",
   "metadata": {},
   "source": [
    "It may seem like there are no differences between Tuples and Lists other than Tuples use parenthesis while lists use brackets, but actually there are minor differences. For one thing, Tuples are fixed structures thus do not have the luxury of Lists to append or remove elements. Generally Lists have a lot of other functions readily available as opposed to using Tuples.\n",
    "\n",
    "<b>HINT:</b> You can try to type <b><i>varList.</i></b> in one line as well as <b><i>varTuple.</i></b> and press <b>TAB</b> after the period (.) in order to view possible functions you can call from that variable. "
   ]
  },
  {
   "cell_type": "code",
   "execution_count": null,
   "metadata": {},
   "outputs": [],
   "source": [
    "varList.append(\"HELLO\")\n",
    "print(varList)\n",
    "print(len(varList))"
   ]
  },
  {
   "cell_type": "markdown",
   "metadata": {},
   "source": [
    "However Tuples actually use less space in the memory as opposed to Lists, resulting in faster processing. One thing to take note of is that one would usually use Tuples when the size of the contents are static as opposed to Lists where one can use it to continuously modify the size and elements."
   ]
  },
  {
   "cell_type": "code",
   "execution_count": null,
   "metadata": {},
   "outputs": [],
   "source": [
    "print(varList)\n",
    "print(varList.__sizeof__())\n",
    "print(varTuple)\n",
    "print(varTuple.__sizeof__())"
   ]
  },
  {
   "cell_type": "markdown",
   "metadata": {
    "collapsed": true
   },
   "source": [
    "### Dictionaries\n",
    "Keys are unique within a dictionary while values may not be. The values of a dictionary can be of any type, but the keys must be of an immutable data type such as strings, numbers, or tuples.\n",
    "\n",
    "Each key is separated from its value by a colon (:). The items are separated by commas. The whole thing is enclosed in curly braces {}.\n",
    "\n",
    "An empty dictionary without any items is written with just two curly braces, like this: {}"
   ]
  },
  {
   "cell_type": "code",
   "execution_count": null,
   "metadata": {},
   "outputs": [],
   "source": [
    "var = 3\n",
    "varDict = {'first':1, '2':'2nd', 3:var}\n",
    "varDict"
   ]
  },
  {
   "cell_type": "markdown",
   "metadata": {},
   "source": [
    "You may also declare contents of dictionaries individually"
   ]
  },
  {
   "cell_type": "code",
   "execution_count": null,
   "metadata": {},
   "outputs": [],
   "source": [
    "varDict = {}\n",
    "varDict['first'] = 1\n",
    "varDict['2'] = '2nd'\n",
    "varDict[3] = var\n",
    "print(varDict[3])"
   ]
  },
  {
   "cell_type": "markdown",
   "metadata": {},
   "source": [
    "You may reference an element by inserting the label of the keypair."
   ]
  },
  {
   "cell_type": "markdown",
   "metadata": {},
   "source": [
    "## Arithmetic\n",
    "\n",
    "Python uses basic arithmetic functions which are normally present on most if not all programming languages.\n",
    "\n",
    "### Addition"
   ]
  },
  {
   "cell_type": "code",
   "execution_count": null,
   "metadata": {},
   "outputs": [],
   "source": [
    "a = 5 + 3\n",
    "a"
   ]
  },
  {
   "cell_type": "markdown",
   "metadata": {},
   "source": [
    "### Subtraction"
   ]
  },
  {
   "cell_type": "code",
   "execution_count": null,
   "metadata": {},
   "outputs": [],
   "source": [
    "a = 5 - 3\n",
    "a"
   ]
  },
  {
   "cell_type": "markdown",
   "metadata": {},
   "source": [
    "### Multiplication"
   ]
  },
  {
   "cell_type": "code",
   "execution_count": null,
   "metadata": {},
   "outputs": [],
   "source": [
    "a = 5 * 3\n",
    "a"
   ]
  },
  {
   "cell_type": "markdown",
   "metadata": {},
   "source": [
    "### Exponent"
   ]
  },
  {
   "cell_type": "code",
   "execution_count": null,
   "metadata": {},
   "outputs": [],
   "source": [
    "a = 5 ** 3\n",
    "a"
   ]
  },
  {
   "cell_type": "markdown",
   "metadata": {},
   "source": [
    "### Division"
   ]
  },
  {
   "cell_type": "code",
   "execution_count": null,
   "metadata": {},
   "outputs": [],
   "source": [
    "a = 5 / 3\n",
    "a"
   ]
  },
  {
   "cell_type": "markdown",
   "metadata": {},
   "source": [
    "### Modulus Division"
   ]
  },
  {
   "cell_type": "code",
   "execution_count": null,
   "metadata": {},
   "outputs": [],
   "source": [
    "a = 5 % 3\n",
    "a"
   ]
  },
  {
   "cell_type": "markdown",
   "metadata": {},
   "source": [
    "### Integer Division"
   ]
  },
  {
   "cell_type": "code",
   "execution_count": null,
   "metadata": {},
   "outputs": [],
   "source": [
    "a = 5 // 3\n",
    "a"
   ]
  },
  {
   "cell_type": "markdown",
   "metadata": {},
   "source": [
    "### Increment"
   ]
  },
  {
   "cell_type": "code",
   "execution_count": null,
   "metadata": {},
   "outputs": [],
   "source": [
    "a = 5\n",
    "a += 1\n",
    "a"
   ]
  },
  {
   "cell_type": "markdown",
   "metadata": {},
   "source": [
    "### Decrement"
   ]
  },
  {
   "cell_type": "code",
   "execution_count": null,
   "metadata": {},
   "outputs": [],
   "source": [
    "a = 5\n",
    "a -= 1\n",
    "a"
   ]
  },
  {
   "cell_type": "markdown",
   "metadata": {},
   "source": [
    "### String Concatenation"
   ]
  },
  {
   "cell_type": "code",
   "execution_count": null,
   "metadata": {},
   "outputs": [],
   "source": [
    "a = 'Hello ' + 'World!'\n",
    "a"
   ]
  },
  {
   "cell_type": "markdown",
   "metadata": {},
   "source": [
    "Strings may also be appended with the use of the plus <b>(+)</b> symbol"
   ]
  },
  {
   "cell_type": "markdown",
   "metadata": {},
   "source": [
    "### Complex Expressions"
   ]
  },
  {
   "cell_type": "code",
   "execution_count": null,
   "metadata": {},
   "outputs": [],
   "source": [
    "a = 3 + 5 - 6 * 2 / 4\n",
    "a"
   ]
  },
  {
   "cell_type": "markdown",
   "metadata": {},
   "source": [
    "## Challenge! Write the following to code\n",
    "\n",
    "$$ g(z) = \\frac{1}{1+e^{-z}}  $$\n",
    "\n",
    "1) z = -8, and e = 2.718 should be equal to 0.0003\n",
    "\n",
    "2) z = -2, and e = 2.718 should be equal to 0.1192246961081721"
   ]
  },
  {
   "cell_type": "code",
   "execution_count": null,
   "metadata": {},
   "outputs": [],
   "source": []
  },
  {
   "cell_type": "code",
   "execution_count": null,
   "metadata": {},
   "outputs": [],
   "source": []
  },
  {
   "cell_type": "markdown",
   "metadata": {},
   "source": [
    "<b><i>TRIVIA</i></b>: The value <b>e</b>, also called <b>Euler's number</b>, is a mathematical constant representing an irrational number that is approximately <b>2.71828</b>. Irrational, meaning the constant <b>e</b> is a real number that is unending and is unable to accurately be represented as a fraction, similar to that of <b>pi</b>."
   ]
  },
  {
   "cell_type": "markdown",
   "metadata": {},
   "source": [
    "## C. Control Statements and Data Structures\n",
    "## Conditional Statements\n",
    "In Python, uniform spacing is used to designate that multiple commands are inside a conditional statement. Please take note however that the composition of the uniform spacing must be the same, such that if 4 spaces are being used, even though 4 spaces may have a visually similar result as a tab, interchanging them would produce an error statement.\n",
    "### Boolean Condition"
   ]
  },
  {
   "cell_type": "code",
   "execution_count": null,
   "metadata": {},
   "outputs": [],
   "source": [
    "x = True\n",
    "if x:\n",
    "    print(\"var x is True\")\n",
    "else:\n",
    "    print(\"var x is False\")"
   ]
  },
  {
   "cell_type": "markdown",
   "metadata": {},
   "source": [
    "### String Condition"
   ]
  },
  {
   "cell_type": "code",
   "execution_count": null,
   "metadata": {},
   "outputs": [],
   "source": [
    "x = \"Hello World!\"\n",
    "\n",
    "if x == 'Hello World!':\n",
    "    print(\"var x is Hello World!\")\n",
    "else:\n",
    "    print(\"var x is not Hello World!\")"
   ]
  },
  {
   "cell_type": "markdown",
   "metadata": {},
   "source": [
    "### Numerical Condition"
   ]
  },
  {
   "cell_type": "code",
   "execution_count": null,
   "metadata": {},
   "outputs": [],
   "source": [
    "x = 10\n",
    "\n",
    "if x == '10':\n",
    "    print(\"var x is a String\")\n",
    "elif x == 10:\n",
    "    print(\"var x in an Integer\")\n",
    "else:\n",
    "    print(\"var x is none of the above\")"
   ]
  },
  {
   "cell_type": "markdown",
   "metadata": {},
   "source": [
    "### Multiple Conditions"
   ]
  },
  {
   "cell_type": "code",
   "execution_count": null,
   "metadata": {},
   "outputs": [],
   "source": [
    "x = 10\n",
    "\n",
    "if x > 5 and x < 15 and x == 10:\n",
    "    print(\"var x is really 10!\")\n",
    "else:\n",
    "    print(\"var x is not really 10\")"
   ]
  },
  {
   "cell_type": "code",
   "execution_count": null,
   "metadata": {},
   "outputs": [],
   "source": [
    "x = 10\n",
    "\n",
    "if x == 10 or x == 20:\n",
    "    print(\"var x can be 10 or 20\")\n",
    "else:\n",
    "    print(\"var x is not 10 nor 20\")"
   ]
  },
  {
   "cell_type": "markdown",
   "metadata": {},
   "source": [
    "## Loops\n",
    "Similar with that of Conditional Statements, commands within a loop are designated by having a uniform spacing.\n",
    "### For Loops"
   ]
  },
  {
   "cell_type": "code",
   "execution_count": null,
   "metadata": {},
   "outputs": [],
   "source": [
    "for var in range(5):\n",
    "    print(var)"
   ]
  },
  {
   "cell_type": "code",
   "execution_count": null,
   "metadata": {},
   "outputs": [],
   "source": [
    "for var in range(2,5):\n",
    "    print(var)"
   ]
  },
  {
   "cell_type": "code",
   "execution_count": null,
   "metadata": {
    "scrolled": true
   },
   "outputs": [],
   "source": [
    "for var in range(0,5,2):\n",
    "    print(var)"
   ]
  },
  {
   "cell_type": "markdown",
   "metadata": {},
   "source": [
    "<b>NOTE:</b> The command <b>range(0,5,2)</b> is equivalent to all numbers from 0 incremented by 2 until it reaches the number less than 5"
   ]
  },
  {
   "cell_type": "code",
   "execution_count": null,
   "metadata": {
    "scrolled": true
   },
   "outputs": [],
   "source": [
    "[v for v in range(1, 100, 5)]"
   ]
  },
  {
   "cell_type": "markdown",
   "metadata": {},
   "source": [
    "<b>NOTE:</b> range([start], stop, [step])"
   ]
  },
  {
   "cell_type": "markdown",
   "metadata": {},
   "source": [
    "### While Loops"
   ]
  },
  {
   "cell_type": "code",
   "execution_count": null,
   "metadata": {},
   "outputs": [],
   "source": [
    "var = 0\n",
    "while var < 5:\n",
    "    print(var)\n",
    "    var += 2"
   ]
  },
  {
   "cell_type": "markdown",
   "metadata": {},
   "source": [
    "### Nested Loops"
   ]
  },
  {
   "cell_type": "code",
   "execution_count": null,
   "metadata": {},
   "outputs": [],
   "source": [
    "x = 0\n",
    "while x < 5:\n",
    "    for y in range(0, x):\n",
    "        print(y, end='')\n",
    "    x+=1\n",
    "    print()"
   ]
  },
  {
   "cell_type": "markdown",
   "metadata": {},
   "source": [
    "Always take note that there should be a colon <b>(:)</b> on the line where one delcares the loop or condition"
   ]
  },
  {
   "cell_type": "markdown",
   "metadata": {},
   "source": [
    "## Lists"
   ]
  },
  {
   "cell_type": "code",
   "execution_count": null,
   "metadata": {},
   "outputs": [],
   "source": [
    "pi = 3.14159\n",
    "varList = [1, 2, 'A', 'B', 'Hello!', pi]\n",
    "print(varList[0])"
   ]
  },
  {
   "cell_type": "markdown",
   "metadata": {},
   "source": [
    "For more information regarding lists, this has been discussed on section B. Data Types and Variables.\n",
    "You can chose to insert different datatypes in a single list."
   ]
  },
  {
   "cell_type": "code",
   "execution_count": null,
   "metadata": {},
   "outputs": [],
   "source": [
    "print(varList[4])"
   ]
  },
  {
   "cell_type": "markdown",
   "metadata": {},
   "source": [
    "You may call the content of the list through indexing"
   ]
  },
  {
   "cell_type": "code",
   "execution_count": null,
   "metadata": {},
   "outputs": [],
   "source": [
    "varList.append('World!')\n",
    "print(varList[6])"
   ]
  },
  {
   "cell_type": "markdown",
   "metadata": {},
   "source": [
    "You may also append items in the list. The example above shows you that when you added a new list item, it would be added towards the end of list"
   ]
  },
  {
   "cell_type": "code",
   "execution_count": null,
   "metadata": {},
   "outputs": [],
   "source": [
    "len(varList)"
   ]
  },
  {
   "cell_type": "markdown",
   "metadata": {},
   "source": [
    "You may obtain the number of elements in a list by calling the <b>len()</b> function"
   ]
  },
  {
   "cell_type": "code",
   "execution_count": null,
   "metadata": {},
   "outputs": [],
   "source": [
    "print(varList[5])"
   ]
  },
  {
   "cell_type": "code",
   "execution_count": null,
   "metadata": {},
   "outputs": [],
   "source": [
    "varList.remove(pi)\n",
    "print(varList[5])"
   ]
  },
  {
   "cell_type": "markdown",
   "metadata": {},
   "source": [
    "Initially <b>varList[5]</b> was called and the result was 3.14159, however when the <b>remove()</b> function was called, it iterates though the list looking for the first match then erases that value."
   ]
  },
  {
   "cell_type": "markdown",
   "metadata": {},
   "source": [
    "## Dictionaries"
   ]
  },
  {
   "cell_type": "code",
   "execution_count": null,
   "metadata": {},
   "outputs": [],
   "source": [
    "var = \"Hello World!\"\n",
    "varDict = {'first' : 123, 2 : 'abc', '3' : var, 4:['lista', 'listb']}\n",
    "print(varDict['first'])"
   ]
  },
  {
   "cell_type": "code",
   "execution_count": null,
   "metadata": {},
   "outputs": [],
   "source": [
    "print(varDict[2])"
   ]
  },
  {
   "cell_type": "code",
   "execution_count": null,
   "metadata": {},
   "outputs": [],
   "source": [
    "print(varDict['3'])"
   ]
  },
  {
   "cell_type": "code",
   "execution_count": null,
   "metadata": {},
   "outputs": [],
   "source": [
    "print(varDict[4])"
   ]
  },
  {
   "cell_type": "code",
   "execution_count": null,
   "metadata": {},
   "outputs": [],
   "source": [
    "print(varDict[4][1])"
   ]
  },
  {
   "cell_type": "code",
   "execution_count": null,
   "metadata": {},
   "outputs": [],
   "source": [
    "len(varDict)"
   ]
  },
  {
   "cell_type": "markdown",
   "metadata": {},
   "source": [
    "## List Generators and Comprehension\n",
    "\n",
    "Generators generate the values on the fly and they do not store all the values in memory.\n",
    "\n",
    "Yield is a keyword that is used like return, except the function will return a generator."
   ]
  },
  {
   "cell_type": "code",
   "execution_count": null,
   "metadata": {},
   "outputs": [],
   "source": [
    "def gen_num_up_to(n):\n",
    "    num = 0\n",
    "    while num < n:\n",
    "        yield num\n",
    "        num += 1"
   ]
  },
  {
   "cell_type": "code",
   "execution_count": null,
   "metadata": {},
   "outputs": [],
   "source": [
    "gen_num_up_to(5)"
   ]
  },
  {
   "cell_type": "code",
   "execution_count": null,
   "metadata": {},
   "outputs": [],
   "source": [
    "varList = gen_num_up_to(5)\n",
    "print([var for var in varList])"
   ]
  },
  {
   "cell_type": "code",
   "execution_count": null,
   "metadata": {},
   "outputs": [],
   "source": [
    "def gen_num_up_to(n):\n",
    "    num = 0\n",
    "    while num < n:\n",
    "        yield num\n",
    "        num += 2\n",
    "\n",
    "varList = gen_num_up_to(5)\n",
    "print([var for var in varList])"
   ]
  },
  {
   "cell_type": "code",
   "execution_count": null,
   "metadata": {},
   "outputs": [],
   "source": [
    "varList = range(0, 5, 2)\n",
    "print([var for var in varList])"
   ]
  },
  {
   "cell_type": "markdown",
   "metadata": {},
   "source": [
    "## Slicing"
   ]
  },
  {
   "cell_type": "code",
   "execution_count": null,
   "metadata": {},
   "outputs": [],
   "source": [
    "varList = [1, 2, 3, 4, 5, 6, 7, 8, 9, 10]\n",
    "varList[:5]"
   ]
  },
  {
   "cell_type": "code",
   "execution_count": null,
   "metadata": {},
   "outputs": [],
   "source": [
    "varList[5:]"
   ]
  },
  {
   "cell_type": "code",
   "execution_count": null,
   "metadata": {},
   "outputs": [],
   "source": [
    "varList[:-2]"
   ]
  },
  {
   "cell_type": "code",
   "execution_count": null,
   "metadata": {},
   "outputs": [],
   "source": [
    "varList[-2:]"
   ]
  },
  {
   "cell_type": "code",
   "execution_count": null,
   "metadata": {},
   "outputs": [],
   "source": [
    "print(varList[2:-2])"
   ]
  },
  {
   "cell_type": "code",
   "execution_count": null,
   "metadata": {},
   "outputs": [],
   "source": [
    "varList[2:8:2]"
   ]
  },
  {
   "cell_type": "markdown",
   "metadata": {},
   "source": [
    "<b>NOTE</b> <i>list([start]: end : [\n",
    "step])"
   ]
  },
  {
   "cell_type": "markdown",
   "metadata": {},
   "source": [
    "## D. Functions\n",
    "\n",
    "Functions use the following notation:\n",
    "\n",
    "def <i>function_name</i>:<br>\n",
    "<pre><i> input commands here </i></pre>"
   ]
  },
  {
   "cell_type": "code",
   "execution_count": null,
   "metadata": {},
   "outputs": [],
   "source": [
    "def remainder(n, m):\n",
    "    while True:\n",
    "        if n - m < 0:\n",
    "            return n\n",
    "        else:\n",
    "            n = n - m"
   ]
  },
  {
   "cell_type": "code",
   "execution_count": null,
   "metadata": {},
   "outputs": [],
   "source": [
    "remainder(10, 4)"
   ]
  },
  {
   "cell_type": "markdown",
   "metadata": {},
   "source": [
    "Here is a sample function. \n",
    "\n",
    "np.random.randint(a, [b]) outputs uniformly random values from $[a,b) $"
   ]
  },
  {
   "cell_type": "code",
   "execution_count": null,
   "metadata": {},
   "outputs": [],
   "source": [
    "import numpy as np\n",
    "np.random.randint(0, 5)"
   ]
  },
  {
   "cell_type": "markdown",
   "metadata": {},
   "source": [
    "## Challenge: Coin Flip\n",
    "Create a function that simulates coin flips repeated n times. Make the function a generator with a parameter n for the number of coin flips. Use np.random.randint to simulate a coin flip.\n",
    "\n",
    "After defining this function, output a list using a list comprehension similar to the above example."
   ]
  },
  {
   "cell_type": "code",
   "execution_count": null,
   "metadata": {},
   "outputs": [],
   "source": []
  },
  {
   "cell_type": "markdown",
   "metadata": {},
   "source": [
    "# Vectors, Matrices and Computation\n",
    "In Python, you can use <b>NUMPY</b> or <b>np</b> through the use of <b>import numpy as np</b> in order to easily use functions for vectors and matrices."
   ]
  },
  {
   "cell_type": "code",
   "execution_count": null,
   "metadata": {},
   "outputs": [],
   "source": [
    "np.array(range(100))"
   ]
  },
  {
   "cell_type": "markdown",
   "metadata": {},
   "source": [
    "It's the same as just: "
   ]
  },
  {
   "cell_type": "code",
   "execution_count": null,
   "metadata": {
    "scrolled": true
   },
   "outputs": [],
   "source": [
    "np.arange(0, 100)"
   ]
  },
  {
   "cell_type": "code",
   "execution_count": null,
   "metadata": {},
   "outputs": [],
   "source": [
    "print(np.arange(0, 100))"
   ]
  },
  {
   "cell_type": "code",
   "execution_count": null,
   "metadata": {},
   "outputs": [],
   "source": [
    "np.array([v for v in coin_flip(10)])"
   ]
  },
  {
   "cell_type": "markdown",
   "metadata": {},
   "source": [
    "## Computing vector computations\n",
    "### Vector to scalar"
   ]
  },
  {
   "cell_type": "code",
   "execution_count": null,
   "metadata": {},
   "outputs": [],
   "source": [
    "varArray = np.arange(0, 5)\n",
    "varArray * 2"
   ]
  },
  {
   "cell_type": "markdown",
   "metadata": {},
   "source": [
    "### Vector to vector: Dot Product"
   ]
  },
  {
   "cell_type": "code",
   "execution_count": null,
   "metadata": {},
   "outputs": [],
   "source": [
    "varArrayA = np.arange(0,5)\n",
    "varArrayB = np.arange(5,10)\n",
    "\n",
    "print(varArrayA)\n",
    "print(varArrayB)\n",
    "print(np.dot(varArrayA, varArrayB))"
   ]
  },
  {
   "cell_type": "markdown",
   "metadata": {},
   "source": [
    "### Vector to vector: Element-wise multiplication"
   ]
  },
  {
   "cell_type": "code",
   "execution_count": null,
   "metadata": {},
   "outputs": [],
   "source": [
    "varArrayA * varArrayB"
   ]
  },
  {
   "cell_type": "markdown",
   "metadata": {},
   "source": [
    "## Challenge: Compute the mean of 1000 coin flips\n",
    "Recall that mean is computed thus:\n",
    "\n",
    "$$ mean(\\vec{X}) = \\frac{1}{|\\vec{X}|} \\sum_{k}X_k$$"
   ]
  },
  {
   "cell_type": "code",
   "execution_count": null,
   "metadata": {},
   "outputs": [],
   "source": [
    "sum=0\n",
    "varlist = coin_flip(1000)\n",
    "for i in varlist:\n",
    "    sum += i\n",
    "mean = sum/1000\n",
    "print(mean)"
   ]
  },
  {
   "cell_type": "markdown",
   "metadata": {},
   "source": [
    "## Matrix to Scalar: Element-wise multiplication"
   ]
  },
  {
   "cell_type": "code",
   "execution_count": null,
   "metadata": {},
   "outputs": [],
   "source": [
    "mat_a = np.random.randint(0, 5, size=(4,4))\n",
    "print(mat_a)\n",
    "print(mat_a * 2)"
   ]
  },
  {
   "cell_type": "markdown",
   "metadata": {},
   "source": [
    "## Matrix to Matrix: Matrix Multiplication "
   ]
  },
  {
   "cell_type": "code",
   "execution_count": null,
   "metadata": {},
   "outputs": [],
   "source": [
    "mat_a * mat_a"
   ]
  },
  {
   "cell_type": "markdown",
   "metadata": {},
   "source": [
    "# Enter Pandas\n",
    "Pandas is a Python library which allows the use of data-structures and analysis tools. \n",
    "\n",
    "Please use the movie_metadata.csv dataset provided. You may also obtain the dataset"
   ]
  },
  {
   "cell_type": "code",
   "execution_count": null,
   "metadata": {
    "scrolled": true
   },
   "outputs": [],
   "source": [
    "import pandas as pd\n",
    "\n",
    "data = pd.read_csv(\"movie_metadata.csv\")"
   ]
  },
  {
   "cell_type": "code",
   "execution_count": null,
   "metadata": {},
   "outputs": [],
   "source": [
    "data.shape"
   ]
  },
  {
   "cell_type": "code",
   "execution_count": null,
   "metadata": {},
   "outputs": [],
   "source": [
    "data.columns"
   ]
  },
  {
   "cell_type": "markdown",
   "metadata": {},
   "source": [
    "## Slicing data frames"
   ]
  },
  {
   "cell_type": "code",
   "execution_count": null,
   "metadata": {},
   "outputs": [],
   "source": [
    "data[:4]"
   ]
  },
  {
   "cell_type": "markdown",
   "metadata": {},
   "source": [
    "## Indexing Columns"
   ]
  },
  {
   "cell_type": "code",
   "execution_count": null,
   "metadata": {},
   "outputs": [],
   "source": [
    "data.director_name[:4]"
   ]
  },
  {
   "cell_type": "code",
   "execution_count": null,
   "metadata": {},
   "outputs": [],
   "source": [
    "cols = [\"movie_title\",\"director_name\"]\n",
    "data[cols][:5]"
   ]
  },
  {
   "cell_type": "markdown",
   "metadata": {},
   "source": [
    "## Indexing Rows"
   ]
  },
  {
   "cell_type": "code",
   "execution_count": null,
   "metadata": {},
   "outputs": [],
   "source": [
    "data.iloc[10:12]"
   ]
  },
  {
   "cell_type": "markdown",
   "metadata": {},
   "source": [
    "## Find Movies by James Cameron"
   ]
  },
  {
   "cell_type": "code",
   "execution_count": null,
   "metadata": {
    "scrolled": false
   },
   "outputs": [],
   "source": [
    "data[data.director_name == 'James Cameron']"
   ]
  },
  {
   "cell_type": "markdown",
   "metadata": {},
   "source": [
    "## Sort films by gross earnings"
   ]
  },
  {
   "cell_type": "code",
   "execution_count": null,
   "metadata": {
    "scrolled": true
   },
   "outputs": [],
   "source": [
    "sorted_data = data.sort_values(by=\"gross\", ascending=False)\n",
    "sorted_data[:5]"
   ]
  },
  {
   "cell_type": "markdown",
   "metadata": {},
   "source": [
    "## Challenge! Get the top 5 films of Michael Bay (by gross)"
   ]
  },
  {
   "cell_type": "code",
   "execution_count": null,
   "metadata": {},
   "outputs": [],
   "source": [
    "mbay = data[data.director_name == 'Michael Bay']\n",
    "mbay"
   ]
  },
  {
   "cell_type": "code",
   "execution_count": null,
   "metadata": {},
   "outputs": [],
   "source": [
    "sorted_data = mbay.sort_values(by=\"gross\", ascending=False)\n",
    "sorted_data[:5]"
   ]
  },
  {
   "cell_type": "markdown",
   "metadata": {},
   "source": [
    "## Multiple Conditions: Find films from the Canada that have Hugh Jackman as the actor_1_name"
   ]
  },
  {
   "cell_type": "code",
   "execution_count": null,
   "metadata": {},
   "outputs": [],
   "source": [
    "from IPython.display import display\n",
    "pd.set_option('display.max_columns', None)"
   ]
  },
  {
   "cell_type": "code",
   "execution_count": null,
   "metadata": {},
   "outputs": [],
   "source": [
    "data[(data['country'] == 'Canada') & (data['actor_1_name'] == 'Hugh Jackman')]"
   ]
  },
  {
   "cell_type": "markdown",
   "metadata": {},
   "source": [
    "## Challenge! Find the actor who is the actor_1_name for the movie that grossed exactly 67344392. Then, find films whose actor_3_name is Piolo Pascual and actor_1_name is the person from Armageddon."
   ]
  },
  {
   "cell_type": "code",
   "execution_count": null,
   "metadata": {},
   "outputs": [],
   "source": [
    "actor1 = data[(data['gross'] == 67344392)]\n",
    "actor1"
   ]
  },
  {
   "cell_type": "code",
   "execution_count": null,
   "metadata": {},
   "outputs": [],
   "source": [
    "actor3 = data[(data['actor_3_name'] == 'Piolo Pascual') & (data['actor_1_name'] == 'Bruce Willis')]\n",
    "actor3"
   ]
  },
  {
   "cell_type": "markdown",
   "metadata": {},
   "source": [
    "# Preprocessing"
   ]
  },
  {
   "cell_type": "code",
   "execution_count": null,
   "metadata": {},
   "outputs": [],
   "source": [
    "data.dtypes"
   ]
  },
  {
   "cell_type": "markdown",
   "metadata": {},
   "source": [
    "## Convert actor_1_facebook_likes to integers"
   ]
  },
  {
   "cell_type": "code",
   "execution_count": null,
   "metadata": {},
   "outputs": [],
   "source": [
    "#will have an error\n",
    "data.actor_1_facebook_likes.astype('int') "
   ]
  },
  {
   "cell_type": "code",
   "execution_count": null,
   "metadata": {},
   "outputs": [],
   "source": [
    "data.isnull().sum()"
   ]
  },
  {
   "cell_type": "markdown",
   "metadata": {},
   "source": [
    "### Replace all NA values with 0"
   ]
  },
  {
   "cell_type": "code",
   "execution_count": null,
   "metadata": {},
   "outputs": [],
   "source": [
    "data['actor_1_facebook_likes'] = data['actor_1_facebook_likes'].fillna(0)\n",
    "data['actor_1_facebook_likes'] = data['actor_1_facebook_likes'].astype(np.int64)\n",
    "data.dtypes"
   ]
  },
  {
   "cell_type": "markdown",
   "metadata": {},
   "source": [
    "## Apply function for each cell\n",
    "Actually, one can think of a lambda as a nameless function. \n",
    "\n",
    "For example only:"
   ]
  },
  {
   "cell_type": "code",
   "execution_count": null,
   "metadata": {},
   "outputs": [],
   "source": [
    "data.actor_1_facebook_likes.apply(lambda x: np.sqrt(x))[:5]"
   ]
  },
  {
   "cell_type": "markdown",
   "metadata": {},
   "source": [
    "## Clean titles\n"
   ]
  },
  {
   "cell_type": "code",
   "execution_count": null,
   "metadata": {},
   "outputs": [],
   "source": [
    "data.movie_title.tolist()[:5]"
   ]
  },
  {
   "cell_type": "code",
   "execution_count": null,
   "metadata": {},
   "outputs": [],
   "source": [
    "data.movie_title[:10].apply(\n",
    "    lambda x: x.encode().decode('unicode_escape').encode('ascii','ignore')).tolist()"
   ]
  },
  {
   "cell_type": "code",
   "execution_count": null,
   "metadata": {},
   "outputs": [],
   "source": [
    "# a weakness though is that it removes enye\n",
    "print(data[data.movie_title.str.contains(\"ñ\")][\"movie_title\"])\n",
    "print(\"The following removed the enye:\")\n",
    "print(data[data.movie_title.str.contains(\"ñ\")][\"movie_title\"].apply(\n",
    "    lambda x: x.encode().decode('unicode_escape').encode('ascii','ignore')).tolist())"
   ]
  },
  {
   "cell_type": "code",
   "execution_count": null,
   "metadata": {},
   "outputs": [],
   "source": [
    "data[\"movie_title\"] = data[\"movie_title\"].apply(\n",
    "    lambda x: x.encode().decode('unicode_escape').encode('ascii','ignore').decode('utf-8'))\n",
    "data[\"movie_title\"][:4]"
   ]
  },
  {
   "cell_type": "markdown",
   "metadata": {},
   "source": [
    "## Clean all\n",
    "\n",
    "Replace values with 0. Of course, imputation could be done here, but other libraries are needed for it.\n",
    "\n",
    "We are adding a new reference to the original data. Only the new cells are allocated memory. The unchanged cells are referenced to the original."
   ]
  },
  {
   "cell_type": "code",
   "execution_count": null,
   "metadata": {},
   "outputs": [],
   "source": [
    "cleaned_data = data.fillna(0)"
   ]
  },
  {
   "cell_type": "markdown",
   "metadata": {},
   "source": [
    "## Data Summaries"
   ]
  },
  {
   "cell_type": "code",
   "execution_count": null,
   "metadata": {},
   "outputs": [],
   "source": [
    "cleaned_data.describe()"
   ]
  },
  {
   "cell_type": "markdown",
   "metadata": {},
   "source": [
    "## Data Correlations\n",
    "method : {‘pearson’, ‘kendall’, ‘spearman’}\n",
    "\n",
    "pearson : standard correlation coefficient\n",
    "\n",
    "kendall : Kendall Tau correlation coefficient\n",
    "\n",
    "spearman : Spearman rank correlation"
   ]
  },
  {
   "cell_type": "code",
   "execution_count": null,
   "metadata": {},
   "outputs": [],
   "source": [
    "cleaned_data.corr()"
   ]
  },
  {
   "cell_type": "markdown",
   "metadata": {},
   "source": [
    "## Outliers : Clipping to the 99th percentile\n",
    "This is just one of the many rules-of-thumb used in practice. It doesn't always work, especially if one has too many outliers."
   ]
  },
  {
   "cell_type": "code",
   "execution_count": null,
   "metadata": {},
   "outputs": [],
   "source": [
    "cleaned_data.duration.quantile(0.99)"
   ]
  },
  {
   "cell_type": "code",
   "execution_count": null,
   "metadata": {
    "scrolled": true
   },
   "outputs": [],
   "source": [
    "cleaned_data['duration'] = np.clip(cleaned_data['duration'], 0, 189)\n",
    "cleaned_data.describe()"
   ]
  },
  {
   "cell_type": "markdown",
   "metadata": {},
   "source": [
    "## Output to CSV file"
   ]
  },
  {
   "cell_type": "code",
   "execution_count": null,
   "metadata": {},
   "outputs": [],
   "source": [
    "cleaned_data.to_csv('movie_metadata_cleaned.csv')"
   ]
  },
  {
   "cell_type": "code",
   "execution_count": null,
   "metadata": {},
   "outputs": [],
   "source": [
    "!head -n 2 movie_metadata_cleaned.csv\n",
    "#!more movie_metadata_cleaned.csv P 2"
   ]
  },
  {
   "cell_type": "markdown",
   "metadata": {},
   "source": [
    "# Aggregations\n",
    "In this example, the group by statement does two things:\n",
    "\n",
    "1) groups together the dataframe by title_year\n",
    "\n",
    "2) the size() function has the title_year as the index"
   ]
  },
  {
   "cell_type": "code",
   "execution_count": null,
   "metadata": {},
   "outputs": [],
   "source": [
    "cleaned_data[\"title_year\"] = cleaned_data[\"title_year\"].astype(np.int64)\n",
    "movies_per_year = cleaned_data.groupby(\"title_year\").size()\n",
    "movies_per_year[-5:]"
   ]
  },
  {
   "cell_type": "code",
   "execution_count": null,
   "metadata": {
    "scrolled": true
   },
   "outputs": [],
   "source": [
    "like_per_year = cleaned_data.groupby(\"title_year\")[\"movie_facebook_likes\"].mean()\n",
    "like_per_year[-5:]"
   ]
  },
  {
   "cell_type": "markdown",
   "metadata": {},
   "source": [
    "# Data Visualization\n",
    "## Matplotlib: Line Plot : Average Facebook Likes per Year\n",
    "Plot takes in as the first parameter the x axis and the second, the y axis values.\n",
    "\n",
    "plt.figure(figsize=(15,8)) is just the size of the plot."
   ]
  },
  {
   "cell_type": "code",
   "execution_count": null,
   "metadata": {},
   "outputs": [],
   "source": [
    "import matplotlib.pyplot as plt\n"
   ]
  },
  {
   "cell_type": "code",
   "execution_count": null,
   "metadata": {},
   "outputs": [],
   "source": [
    "fig = plt.figure(figsize=(15,8))\n",
    "years = like_per_year.index.tolist()[1:]\n",
    "likes = like_per_year[1:]\n",
    "plt.plot(years, likes)\n",
    "plt.show()"
   ]
  },
  {
   "cell_type": "markdown",
   "metadata": {},
   "source": [
    "## Matplotlib: Scatterplot : Gross VS Budget"
   ]
  },
  {
   "cell_type": "code",
   "execution_count": null,
   "metadata": {},
   "outputs": [],
   "source": [
    "fig = plt.figure(figsize=(15,8))\n",
    "plt.scatter(cleaned_data[\"gross\"], cleaned_data[\"budget\"])\n",
    "plt.show()"
   ]
  },
  {
   "cell_type": "markdown",
   "metadata": {},
   "source": [
    "## Matplotlib: Histogram of IMDB scores"
   ]
  },
  {
   "cell_type": "code",
   "execution_count": null,
   "metadata": {},
   "outputs": [],
   "source": [
    "fig = plt.figure(figsize=(15,8))\n",
    "plt.hist(cleaned_data[\"imdb_score\"], bins=20)\n",
    "plt.show()"
   ]
  },
  {
   "cell_type": "markdown",
   "metadata": {},
   "source": [
    "## Pandas : Barplot of the gross earnings of the 10 movies with highest budget superimposed with their budget as a line graph"
   ]
  },
  {
   "cell_type": "code",
   "execution_count": null,
   "metadata": {},
   "outputs": [],
   "source": [
    "top_budget = cleaned_data.sort_values(by=\"budget\", ascending=False)[\"movie_title\"][:10].tolist()\n",
    "top_budget_data = cleaned_data[cleaned_data[\"movie_title\"].isin(top_budget)]\n",
    "\n",
    "ax1 = top_budget_data.plot(x=\"movie_title\", y=\"gross\", kind=\"bar\", figsize=(15,8))\n",
    "ax2 = ax1.twinx()\n",
    "top_budget_data.plot(x=\"movie_title\", y=\"budget\", kind=\"line\", \n",
    "                     color='red', figsize=(15,8), ax=ax2)\n",
    "ax1.legend(loc='upper left')\n",
    "ax2.legend(loc='upper right')\n",
    "plt.show()"
   ]
  },
  {
   "cell_type": "code",
   "execution_count": null,
   "metadata": {},
   "outputs": [],
   "source": [
    "top_budget_data"
   ]
  },
  {
   "cell_type": "markdown",
   "metadata": {},
   "source": [
    "## Plot the histograms of imdb_scores according to different content rating Types  \n",
    "We're finding out which content type tends to have the higher imdb_score."
   ]
  },
  {
   "cell_type": "code",
   "execution_count": null,
   "metadata": {},
   "outputs": [],
   "source": [
    "import seaborn as sns\n",
    "\n",
    "ax = sns.distplot(cleaned_data[cleaned_data['content_rating'] == 'PG-13'][\"imdb_score\"], \n",
    "                  color='red')\n",
    "sns.distplot(cleaned_data[cleaned_data['content_rating'] == 'R'][\"imdb_score\"], \n",
    "             color='teal', ax=ax)\n",
    "sns.distplot(cleaned_data[cleaned_data['content_rating'] == 'GP'][\"imdb_score\"], \n",
    "             color='blue', ax=ax)"
   ]
  },
  {
   "cell_type": "code",
   "execution_count": null,
   "metadata": {},
   "outputs": [],
   "source": [
    "from pandas.plotting import scatter_matrix\n",
    "\n",
    "cols = [\"num_critic_for_reviews\", \"imdb_score\", \"movie_facebook_likes\"]\n",
    "scatter_matrix(cleaned_data[cols], alpha=0.2, figsize=(20, 20), \n",
    "               diagonal='kde', marker='o')\n",
    "plt.show()"
   ]
  },
  {
   "cell_type": "code",
   "execution_count": null,
   "metadata": {},
   "outputs": [],
   "source": [
    "from pandas.plotting import scatter_matrix\n",
    "cols = [\"num_critic_for_reviews\", \"duration\", \"facenumber_in_poster\", \n",
    "        \"num_user_for_reviews\", \"budget\", \"imdb_score\", \"movie_facebook_likes\", \"gross\"]\n",
    "scatter_matrix(cleaned_data[cols], alpha=0.2, figsize=(20, 20), \n",
    "               diagonal='kde', marker='o')\n",
    "plt.show()"
   ]
  },
  {
   "cell_type": "markdown",
   "metadata": {},
   "source": [
    "## Seaborn : Conditional Formatting\n",
    "For more, check out: https://pandas.pydata.org/pandas-docs/stable/style.html"
   ]
  },
  {
   "cell_type": "code",
   "execution_count": null,
   "metadata": {},
   "outputs": [],
   "source": [
    "import seaborn as sns\n",
    "\n",
    "cm = sns.light_palette(\"green\", as_cmap=True)\n",
    "cols = [\"movie_title\", \"imdb_score\",\"gross\"]\n",
    "color_me = cleaned_data[cols][:10]\n",
    "s = color_me.style.background_gradient(cmap=cm)\n",
    "s"
   ]
  },
  {
   "cell_type": "markdown",
   "metadata": {},
   "source": [
    "## Advanced Graphs: Plotting more than 2 variables\n",
    "\n",
    "Let's take this slowly."
   ]
  },
  {
   "cell_type": "code",
   "execution_count": null,
   "metadata": {
    "scrolled": false
   },
   "outputs": [],
   "source": [
    "plt.figure(figsize=(15,8))\n",
    "sizes = 1000*((cleaned_data[\"gross\"] - min(cleaned_data[\"gross\"])) \n",
    "              / max(cleaned_data[\"gross\"] ) - min(cleaned_data[\"gross\"] ))\n",
    "colors = np.where(cleaned_data.genres.str.contains(\"Fantasy\"), 'red', 'green')\n",
    "plt.scatter(x=cleaned_data[\"movie_facebook_likes\"], \n",
    "            y=cleaned_data[\"imdb_score\"], c=colors,\n",
    "            s = sizes)\n",
    "\n",
    "plt.xlabel(\"Facebook Likes\")\n",
    "plt.ylabel(\"IMDB Score\")\n",
    "plt.xlim((0,100000))\n",
    "plt.show()"
   ]
  },
  {
   "cell_type": "markdown",
   "metadata": {},
   "source": [
    "## Seaborn : Line Plot with Regression : Voted users and reviews"
   ]
  },
  {
   "cell_type": "code",
   "execution_count": null,
   "metadata": {},
   "outputs": [],
   "source": [
    "sns.lineplot(x=\"num_voted_users\", \n",
    "           y=\"num_user_for_reviews\",\n",
    "           data=cleaned_data, size=8)"
   ]
  },
  {
   "cell_type": "markdown",
   "metadata": {},
   "source": [
    "## Challenge! Fix the above plot by clipping by the Tukey's Test (k=1):\n",
    "Use the np.clip function to bound the results as the following interval:\n",
    "$$\n",
    "{\\big [}Q_{1}-k(Q_{3}-Q_{1}),Q_{3}+k(Q_{3}-Q_{1}){\\big ]}\n",
    "$$"
   ]
  },
  {
   "cell_type": "code",
   "execution_count": null,
   "metadata": {
    "scrolled": true
   },
   "outputs": [],
   "source": []
  },
  {
   "cell_type": "markdown",
   "metadata": {},
   "source": [
    "## Seaborn : Barplot of the gross earnings of the last 10 years"
   ]
  },
  {
   "cell_type": "code",
   "execution_count": null,
   "metadata": {},
   "outputs": [],
   "source": [
    "cleaned_data[\"title_year\"] = cleaned_data[\"title_year\"].astype(np.int64)\n",
    "latest_10_years = np.sort(cleaned_data[\"title_year\"].unique())[-10:]\n",
    "\n",
    "latest_movies_data=cleaned_data[cleaned_data[\"title_year\"].isin(latest_10_years)]\n",
    "plt.figure(figsize=(15,4))\n",
    "sns.barplot(x=\"title_year\", y=\"gross\", data=latest_movies_data)\n",
    "plt.xticks(rotation=45)\n",
    "plt.show()"
   ]
  },
  {
   "cell_type": "markdown",
   "metadata": {},
   "source": [
    "## Challenge : Get the top 10 directors with most movies directed and use a boxplot for their gross earnings"
   ]
  },
  {
   "cell_type": "code",
   "execution_count": null,
   "metadata": {},
   "outputs": [],
   "source": []
  },
  {
   "cell_type": "markdown",
   "metadata": {},
   "source": [
    "# Activities"
   ]
  },
  {
   "cell_type": "markdown",
   "metadata": {},
   "source": [
    "## Plot the following variables in one graph:\n",
    "\n",
    "- num_critic_for_reviews\n",
    "- IMDB score\n",
    "- gross\n",
    "- Steven Spielberg against others"
   ]
  },
  {
   "cell_type": "code",
   "execution_count": null,
   "metadata": {},
   "outputs": [],
   "source": []
  },
  {
   "cell_type": "markdown",
   "metadata": {},
   "source": [
    "## Compute Sales (Gross - Budget), add it as another column"
   ]
  },
  {
   "cell_type": "code",
   "execution_count": null,
   "metadata": {},
   "outputs": [],
   "source": []
  },
  {
   "cell_type": "markdown",
   "metadata": {},
   "source": [
    "## Which directors garnered the most total sales?"
   ]
  },
  {
   "cell_type": "code",
   "execution_count": null,
   "metadata": {},
   "outputs": [],
   "source": []
  },
  {
   "cell_type": "markdown",
   "metadata": {},
   "source": [
    "## Which actors garnered the most total sales?"
   ]
  },
  {
   "cell_type": "code",
   "execution_count": null,
   "metadata": {
    "scrolled": true
   },
   "outputs": [],
   "source": []
  },
  {
   "cell_type": "markdown",
   "metadata": {},
   "source": [
    "## Plot sales and average likes as a scatterplot. Fit it with a line."
   ]
  },
  {
   "cell_type": "code",
   "execution_count": null,
   "metadata": {},
   "outputs": [],
   "source": []
  },
  {
   "cell_type": "markdown",
   "metadata": {},
   "source": [
    "## Which of these genres are the most profitable? Plot their sales using different histograms, superimposed in the same axis.\n",
    "\n",
    "- Romance\n",
    "- Comedy\n",
    "- Action\n",
    "- Fantasy"
   ]
  },
  {
   "cell_type": "code",
   "execution_count": null,
   "metadata": {},
   "outputs": [],
   "source": []
  },
  {
   "cell_type": "markdown",
   "metadata": {},
   "source": [
    "## Standardization\n",
    "Standardize sales using the following formula then save it to a new column.\n",
    "\n",
    "$$\n",
    "Z={X-\\operatorname {E} [X] \\over \\sigma (X)}\n",
    "$$\n",
    "\n",
    "The first values should be: [2.612646, 0.026695, -0.246587, 0.975996, -0.020609]"
   ]
  },
  {
   "cell_type": "code",
   "execution_count": null,
   "metadata": {},
   "outputs": [],
   "source": []
  },
  {
   "cell_type": "markdown",
   "metadata": {},
   "source": [
    "## For each of movie, compute average likes of the three actors and store it as a new variable. Standardize. Read up on the mean function.\n",
    "\n",
    "Store it as a new column, average_actor_likes."
   ]
  },
  {
   "cell_type": "code",
   "execution_count": null,
   "metadata": {
    "scrolled": true
   },
   "outputs": [],
   "source": []
  },
  {
   "cell_type": "markdown",
   "metadata": {},
   "source": [
    "## Create a linear hypothesis function\n",
    "\n",
    "Create a function that takes (1) a scalar, (2) theta and (3) a bias variable to output a value as close as possible to gross.\n",
    "\n",
    "$$\n",
    "score = b + \\sum_j{(\\theta_j * x)}\n",
    "$$\n",
    "\n",
    "$$\n",
    "score = \\theta_1 * average\\_actor\\_likes + bias\n",
    "$$"
   ]
  },
  {
   "cell_type": "code",
   "execution_count": null,
   "metadata": {},
   "outputs": [],
   "source": []
  },
  {
   "cell_type": "markdown",
   "metadata": {},
   "source": [
    "## Create an RMSE function\n",
    "Create a function that compares two vectors and outputs the root mean squared error / deviation.\n",
    "\n",
    "$$\n",
    "\\operatorname{RMSD}(\\hat{\\theta}) = \\sqrt{\\operatorname{MSE}(\\hat{\\theta})} = \\sqrt{\\operatorname{E}((\\hat{\\theta}-\\theta)^2)}\n",
    "$$"
   ]
  },
  {
   "cell_type": "code",
   "execution_count": null,
   "metadata": {},
   "outputs": [],
   "source": []
  },
  {
   "cell_type": "markdown",
   "metadata": {},
   "source": [
    "Adapted from the DOSt AI Summer School 2017 (Valerio and Flores)"
   ]
  }
 ],
 "metadata": {
  "kernelspec": {
   "display_name": "Python 3 (ipykernel)",
   "language": "python",
   "name": "python3"
  },
  "language_info": {
   "codemirror_mode": {
    "name": "ipython",
    "version": 3
   },
   "file_extension": ".py",
   "mimetype": "text/x-python",
   "name": "python",
   "nbconvert_exporter": "python",
   "pygments_lexer": "ipython3",
   "version": "3.8.16"
  }
 },
 "nbformat": 4,
 "nbformat_minor": 1
}
